{
 "cells": [
  {
   "cell_type": "markdown",
   "id": "7e65c04d-fe67-493f-bfc5-2fe6a0992f79",
   "metadata": {},
   "source": [
    "# Example 1 - tracking a random sinusoidal signal\n",
    "\n",
    "Before introducing more general nonlinear dyanmic systems (see the following examples), let us consider a simple case of tracking a random sine signal whose angular velocity and amplitude vary, randomly, over time. We express the nonlinearity through the measurement model, though this could be done with the dynamic model, as in the examples below.\n",
    "\n",
    "Let the state vector be\n",
    "\n",
    "$$\n",
    "  \\mathbf{x}_k = \\left[\\begin{array}{c}\n",
    "\t\t\\theta_k\\\\\n",
    "\t\t\\omega_k \\\\\n",
    "        a_k\n",
    "\t\\end{array}\\right],\n",
    "$$\n",
    "\n",
    "where the $\\theta$ is the angle, $\\omega$ the angular velocity and $a$ the amplitude of the sine function. The model is then\n",
    "\n",
    "$$\n",
    "\\begin{align}\n",
    "\\frac{\\mathrm{d} \\theta}{\\mathrm{d}t} &=  \\omega \\\\\n",
    "\\frac{\\mathrm{d} \\omega}{\\mathrm{d}t} &=  w_{\\omega}(t) \\\\\n",
    "\\frac{\\mathrm{d} a}{\\mathrm{d}t} &=  w_a(t) \n",
    "\\end{align}\n",
    "$$\n",
    "\n",
    "In matrix form, we have\n",
    "\n",
    "$$ \n",
    "  \\frac{\\mathrm{d}\\mathbf{x}}{\\mathrm{d}t} = F \\mathbf{x}(t) + L \\mathbf{w}(t) , \\quad \\mathbf{x}(0) = \\mathbf{x}_0,\n",
    "$$ \n",
    "\n",
    "where \n",
    "\n",
    "$$\n",
    "F = \\begin{bmatrix} 0 & 1 & 0\\\\ 0 & 0 & 0 \\\\  0 & 0 & 0 \\end{bmatrix}, \\quad\n",
    "L =  \\begin{bmatrix} 0 & 0\\\\ 1 & 0 \\\\ 0 & 1  \\end{bmatrix}, \\quad\n",
    "\\mathbf{w}(t) =  \\begin{bmatrix} w_\\omega (t)\\\\ w_a(t) \\end{bmatrix},\n",
    "$$\n",
    "\n",
    "and the power spectral density of the white noise process $\\mathbf{w}(t)$ is\n",
    "\n",
    "$$\n",
    "Q^c = \\begin{bmatrix} q_1 & 1\\\\ 0 & q_2 \\end{bmatrix}.\n",
    "$$\n",
    "\n",
    "Using the matrix exponential formulas (see [KF-tutorial](./KF-tutorial.ipynb)), we get the discrete system\n",
    "\n",
    "$$\n",
    "\\begin{align}\n",
    " \\mathbf{x}_{k+1 } &= A_k  \\mathbf{x}_{k} + \\mathbf{q}_{k}, \\\\\n",
    " y_k &= a_k \\sin \\theta_k + r_k\n",
    "\\end{align}\n",
    "$$\n",
    "\n",
    "where $r_k \\sim \\mathcal{N}(0, \\sigma_r)$ is univariate Gaussian noise,\n",
    "\n",
    "$$\n",
    "A_k = \\begin{bmatrix} 0 & \\Delta t & 0\\\\ 0 & 1 & 0 \\\\  0 & 0 & 1 \\end{bmatrix},\n",
    "$$\n",
    "\n",
    "and $\\mathbf{q}_{k} \\sim \\mathcal{N}(0, Q_k)$ with\n",
    "\n",
    "$$\n",
    " Q_k = \\begin{bmatrix} q_1 \\Delta t^3 / 3   & q_1 \\Delta t^2 / 2  & 0 \\\\\n",
    "        q_1 \\Delta t^2 / 2  &  q_1 \\Delta t  & 0 \\\\\n",
    "        0 &   0 &  q_2 \\Delta t \\end{bmatrix}.\n",
    "$$\n",
    "\n",
    "Finally, the Jacobian of $h(\\mathbf{x}_{k}) = a_k \\sin \\theta_k $ is easily seen to be\n",
    "\n",
    "$$\n",
    "  Dh_k = [ a_k \\cos \\theta_k \\quad 0 \\quad \\sin \\theta_k ]\n",
    "$$\n"
   ]
  },
  {
   "cell_type": "code",
   "execution_count": null,
   "id": "d29c81d8-657c-4c62-8afa-56736806acad",
   "metadata": {
    "editable": true,
    "slideshow": {
     "slide_type": ""
    },
    "tags": []
   },
   "outputs": [],
   "source": []
  }
 ],
 "metadata": {
  "kernelspec": {
   "display_name": "Python 3 (ipykernel)",
   "language": "python",
   "name": "python3"
  },
  "language_info": {
   "codemirror_mode": {
    "name": "ipython",
    "version": 3
   },
   "file_extension": ".py",
   "mimetype": "text/x-python",
   "name": "python",
   "nbconvert_exporter": "python",
   "pygments_lexer": "ipython3",
   "version": "3.8.18"
  }
 },
 "nbformat": 4,
 "nbformat_minor": 5
}
