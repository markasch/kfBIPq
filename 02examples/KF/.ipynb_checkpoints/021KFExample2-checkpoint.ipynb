{
 "cells": [
  {
   "cell_type": "markdown",
   "id": "9f409b25-e33c-4e39-8060-2789e00068a2",
   "metadata": {
    "editable": true,
    "slideshow": {
     "slide_type": ""
    },
    "tags": []
   },
   "source": [
    "# Example 2 - scalar, Gaussian random walk\n",
    "\n",
    "Suppose that we have measurements of the scalar $y_k$ from the Gaussian random walk model \n",
    "\\begin{align}\n",
    "\t\tx_{k} & =x_{k-1}+ w_{k-1},\\quad w_{k-1}\\sim\\mathcal{N}(0,Q), \\\\\n",
    "\t\ty_{k} & =x_{k}+v_{k},\\quad v_{k}\\sim\\mathcal{N}(0,R).\n",
    "\\end{align}\n",
    "\n",
    "This very basic system is found in many applications where $x_k$ represents a slowly varying quantity that we measure directly. The process noise, $w_k,$ takes into account fluctuations in the state $x_k.$ The measurement noise, $v_k,$ accounts for measurement instrument errors. The difference with the previous example, is that here $x$ varies randomly over the time-steps.\n",
    "\n",
    "We want to estimate the state $x_k$ over time, taking into account the measurements $y_k.$ That is, we would like to compute the filtering density,\n",
    "\n",
    "$$\n",
    "   p({x}_{k}\\mid{y}_{1:k})=\\mathcal{N}\\left({x}_{k}\\mid{m}_{k},{P}_{k}\\right).\n",
    "$$\n",
    "\n",
    "We proceed by simply writing down the three stages of the Kalman filter, noting that (as in the previous example) $F_k =1$ and $H_k =1$ for this model. We obtain:\n",
    "\n",
    "- **Initialization:** Define the prior mean  ${x}_0$ and prior covariance ${P}_0.$\n",
    "- **Prediction:** \n",
    "\t\\begin{align*}\n",
    "\t\t{\\hat{x}}_{k} & = {x}_{k-1},\\\\\n",
    "\t\t\\hat{{P}}_{k} & =  {P}_{k-1} + {Q}.\n",
    "\t\\end{align*}\n",
    " - **Correction:** Define\n",
    "\t\\begin{align*}\n",
    "\t\t{d}_{k} & ={y}_{k}-{\\hat{x}}_{k},\\quad\\textrm{the innovation},\\\\\n",
    "\t\t{S}_{k} & =\\hat{{P}}_{k}+{R},\\quad\\textrm{the measurement covariance},\\\\\n",
    "\t\t{K}_{k} & =\\hat{{P}}_{k}{S}_{k}^{-1},\\quad\\textrm{the Kalman gain,}\n",
    "\t\\end{align*}\n",
    "\tthen update,\n",
    "\t\\begin{align*}\n",
    "\t\t{x}_{k} & ={\\hat{x}}_{k} + K_k {d}_{k},\\\\\n",
    "\t\tP_{k}   & =\\hat{P}_{k}-\\frac{\\hat{P}_{k}^{2}}{S_{k}}.\n",
    "\t\\end{align*}\n",
    "\n",
    ":::{note} \n",
    "Note that this formulation is identical with the previous example, except the nature of the measurements, $y_k.$\n",
    ":::"
   ]
  },
  {
   "cell_type": "code",
   "execution_count": null,
   "id": "20ab4d78-e428-49e7-9482-355a4565b0e2",
   "metadata": {},
   "outputs": [],
   "source": []
  }
 ],
 "metadata": {
  "kernelspec": {
   "display_name": "Python 3 (ipykernel)",
   "language": "python",
   "name": "python3"
  },
  "language_info": {
   "codemirror_mode": {
    "name": "ipython",
    "version": 3
   },
   "file_extension": ".py",
   "mimetype": "text/x-python",
   "name": "python",
   "nbconvert_exporter": "python",
   "pygments_lexer": "ipython3",
   "version": "3.8.18"
  }
 },
 "nbformat": 4,
 "nbformat_minor": 5
}
